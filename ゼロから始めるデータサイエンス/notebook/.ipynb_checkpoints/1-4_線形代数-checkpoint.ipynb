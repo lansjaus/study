{
 "cells": [
  {
   "cell_type": "markdown",
   "metadata": {},
   "source": [
    "# 線形代数\n",
    "\n",
    "線形代数は、ベクトル空間を扱う数学の一分野\n",
    "なお、リストをベクトルとして利用するのは、実務上厳しい。\n",
    "よって、Numpyライブラリを実際は利用します"
   ]
  },
  {
   "cell_type": "markdown",
   "metadata": {},
   "source": [
    "## ベクトル\n",
    "抽象的では、ベクトルはオブジェクト。\n",
    "ベクトル同士の加算、ベクトルとスカラーとの乗算が可能\n",
    "ベクトルとは、有限次元空間内の点であると言えます。\n",
    "データは、ベクトルです。ベクトルは、数値データを表現する非常に便利で優れています。\n",
    "\n",
    "例えば身長、体重、年齢のデータを大量に持っているとしましょう。\n",
    "このデータは3次元のベクトル（身長、体重、年齢）として扱えます。"
   ]
  },
  {
   "cell_type": "raw",
   "metadata": {},
   "source": [
    "ゼロから作る方法として、ベクトルを数値のリストとして表現するのが最も簡単です。３つの数値からなるリストは、３次元のベクトルを表します。"
   ]
  },
  {
   "cell_type": "markdown",
   "metadata": {},
   "source": [
    "height_weight_age = [172,72,40]"
   ]
  },
  {
   "cell_type": "code",
   "execution_count": 2,
   "metadata": {
    "collapsed": true
   },
   "outputs": [],
   "source": [
    "# ４回のテスト\n",
    "grades = [95,80,75,63]"
   ]
  },
  {
   "cell_type": "markdown",
   "metadata": {},
   "source": [
    "ベクトルに対する算術演算を行いたい場合に、問題がある。\n",
    "pythonのリストは、ベクトルでない。（ベクトル演算の機能が提供されていない）\n",
    "頻繁に使用するベクトルの加算から始めましょう。\n",
    "ベクトルは、要素ごとに加算を行います。\n",
    "\n",
    "２つのベクトル v と w の長さが同じである場合の和は、\n",
    "最初の要素がv[0]とw[0]、2番目の要素v[1]とw[1]のように順次要素の和をとった結果となり、新しいベクトルが生まれる。\n",
    "\n",
    "例：ベクトル[1,3], [2,4]の和は、\n",
    "[1 + 2, 3 + 4]となり、結果は[3,7]となる\n",
    "\n",
    "この演算をpythonで実装すると"
   ]
  },
  {
   "cell_type": "code",
   "execution_count": 69,
   "metadata": {
    "collapsed": false
   },
   "outputs": [
    {
     "name": "stdout",
     "output_type": "stream",
     "text": [
      "[7, 9, 11, 13, 15]\n",
      "[-5, -5, -5, -5, -5]\n",
      "15\n"
     ]
    }
   ],
   "source": [
    "v = [1,2,3,4,5]\n",
    "w = [6,7,8,9,10]\n",
    "\n",
    "\"\"\"ベクトルの和\"\"\"\n",
    "def vector_add(v,w):\n",
    "    return [v_i + w_i for v_i, w_i in zip(v,w)]\n",
    "\n",
    "print(vector_add(v,w))\n",
    "\n",
    "\"\"\"ベクトルの差\"\"\"\n",
    "def vector_subtract(v,w):\n",
    "    return [v_i - w_i for v_i, w_i in zip(v,w)]\n",
    "\n",
    "print(vector_subtract(v,w))\n",
    "\n",
    "\"\"\"ベクトルの和\"\"\"\n",
    "import functools\n",
    "def vector_sum(vectors):\n",
    "    return functools.reduce(add, vectors)\n",
    "\n",
    "print(vector_sum(v))\n"
   ]
  },
  {
   "cell_type": "code",
   "execution_count": 67,
   "metadata": {
    "collapsed": false
   },
   "outputs": [
    {
     "name": "stdout",
     "output_type": "stream",
     "text": [
      "functools.partial(<built-in function reduce>, [1, 3, 5, 6, 19, 29, 3, 7, 9])\n"
     ]
    }
   ],
   "source": [
    "import functools\n",
    "from operator import add\n",
    "vectors_test = [1,3,5,6,19,29,3,7,9]\n",
    "\n",
    "\"\"\"書き換え：partial\"\"\"\n",
    "vector_sum3 = functools.partial(functools.reduce, vectors_partial)\n",
    "print(vector_sum)\n"
   ]
  },
  {
   "cell_type": "markdown",
   "metadata": {},
   "source": [
    "ベクトルとスカラーの乗算\n",
    "単にベクトルの各要素に数値を乗じたもの"
   ]
  },
  {
   "cell_type": "code",
   "execution_count": 59,
   "metadata": {
    "collapsed": false
   },
   "outputs": [
    {
     "name": "stdout",
     "output_type": "stream",
     "text": [
      "[4, 8, 12, 16, 20]\n"
     ]
    }
   ],
   "source": [
    "c = 4\n",
    "v = [1,2,3,4,5]\n",
    "def scalar_multiply(c,v):\n",
    "    \"\"\"cは、数値。vはベクトル\"\"\"\n",
    "    return [c * v_i for v_i in v]\n",
    "\n",
    "print(scalar_multiply(c,v))"
   ]
  },
  {
   "cell_type": "markdown",
   "metadata": {},
   "source": [
    "同じ長さのベクトルに対する要素ごとの平均が求められる"
   ]
  },
  {
   "cell_type": "code",
   "execution_count": 75,
   "metadata": {
    "collapsed": false
   },
   "outputs": [
    {
     "name": "stdout",
     "output_type": "stream",
     "text": [
      "3.0\n"
     ]
    }
   ],
   "source": [
    "v = [1,2,3,4,5]\n",
    "def vector_mean(vectors):\n",
    "    \"\"\"ベクトルの総和から平均を求める\"\"\"\n",
    "    n = len(vectors)\n",
    "    vs = vector_sum(vectors)\n",
    "    v = list()\n",
    "    v.append(vs)\n",
    "    return scalar_multiply(1/n, v)[0]\n",
    "\n",
    "print(vector_mean(v))"
   ]
  },
  {
   "cell_type": "markdown",
   "metadata": {},
   "source": [
    "## 内積(ドット積)\n",
    "２つのベクトルの内積は、要素ごとの積の総和\n",
    "内積は、ベクトルvをwの方向法に展開した場合の長さを表します。\n",
    "例えば、w = [1,0]の場合、内積(v, w)は、vの第一要素1になります。\n",
    "言い換えると、ベクトルvをw上に射影していることになります。\n",
    "内積0は、ベクトルが直交していることを表します。"
   ]
  },
  {
   "cell_type": "code",
   "execution_count": 83,
   "metadata": {
    "collapsed": false
   },
   "outputs": [
    {
     "name": "stdout",
     "output_type": "stream",
     "text": [
      "130\n",
      "0\n"
     ]
    }
   ],
   "source": [
    "# 内積\n",
    "v = [1,2,3,4,5]\n",
    "w = [6,7,8,9,10]\n",
    "def dot(v,w):\n",
    "    return sum(v_i * w_i for v_i, w_i in zip(v,w)) \n",
    "\n",
    "print(dot(v,w))\n",
    "\n",
    "# 直交\n",
    "v=[0,1,1]\n",
    "w=[1,0,0]\n",
    "print(dot(v,w))"
   ]
  },
  {
   "cell_type": "markdown",
   "metadata": {},
   "source": [
    "### ベクトルの２乗和"
   ]
  },
  {
   "cell_type": "code",
   "execution_count": 86,
   "metadata": {
    "collapsed": false
   },
   "outputs": [
    {
     "name": "stdout",
     "output_type": "stream",
     "text": [
      "55\n"
     ]
    }
   ],
   "source": [
    "v = [1,2,3,4,5]\n",
    "def sum_of_squares(v):\n",
    "    return dot(v,v)\n",
    "\n",
    "print(sum_of_squares(v))"
   ]
  },
  {
   "cell_type": "markdown",
   "metadata": {},
   "source": [
    "### ベクトルの大きさ"
   ]
  },
  {
   "cell_type": "markdown",
   "metadata": {},
   "source": [
    "一つのベクトルの大きさは、ベクトルの２乗和を平方根したものがベクトルの大きさを表す。\n",
    "※同一ベクトル同士の距離\n",
    "\n",
    "$$\n",
    "\\sqrt{(v_1)^2 + … + (v_n)^2} \\\\\n",
    "$$"
   ]
  },
  {
   "cell_type": "code",
   "execution_count": 91,
   "metadata": {
    "collapsed": true
   },
   "outputs": [],
   "source": [
    "import math\n",
    "\n",
    "def magnitude(v):\n",
    "    return math.sqrt(sum_of_squares(v)) # sqrtで平方根\n"
   ]
  },
  {
   "cell_type": "markdown",
   "metadata": {},
   "source": [
    "### ベクトルの距離\n",
    "２つのベクトルの差の総和を平方根したものが距離\n",
    "\n",
    "$$\n",
    "\\sqrt{(v_1-w_1)^2 + … + (v_n - w_n)^2} \\\\\n",
    "$$"
   ]
  },
  {
   "cell_type": "code",
   "execution_count": 93,
   "metadata": {
    "collapsed": false
   },
   "outputs": [
    {
     "name": "stdout",
     "output_type": "stream",
     "text": [
      "125\n"
     ]
    }
   ],
   "source": [
    "import math\n",
    "\n",
    "v = [1,2,3,4,5]\n",
    "w = [6,7,8,9,10]\n",
    "def distance(v,w):\n",
    "    return magnitude(vector_subtract(v,w))\n",
    "\n",
    "print(squared_distance(v,w))"
   ]
  }
 ],
 "metadata": {
  "kernelspec": {
   "display_name": "Python 3",
   "language": "python",
   "name": "python3"
  },
  "language_info": {
   "codemirror_mode": {
    "name": "ipython",
    "version": 3
   },
   "file_extension": ".py",
   "mimetype": "text/x-python",
   "name": "python",
   "nbconvert_exporter": "python",
   "pygments_lexer": "ipython3",
   "version": "3.6.0"
  }
 },
 "nbformat": 4,
 "nbformat_minor": 2
}
