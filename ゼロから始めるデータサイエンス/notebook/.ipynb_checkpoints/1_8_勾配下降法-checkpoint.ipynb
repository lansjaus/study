{
 "cells": [
  {
   "cell_type": "markdown",
   "metadata": {},
   "source": [
    "# 勾配下降法\n",
    "データサイエンスでは、最適化問題を解く事があります。\n",
    "ゼロからプログラムを作る上げるのに適した勾配下降法と呼ばれる手法を用います。\n",
    "\n",
    "## 勾配下降法の考え方\n",
    "入力として一つのベクトルを受け取り、１つの実数を返す関数を考えます。\n",
    "簡単な例は、次の関数です。"
   ]
  },
  {
   "cell_type": "code",
   "execution_count": 1,
   "metadata": {
    "collapsed": true
   },
   "outputs": [],
   "source": [
    "def sum_of_squares(v):\n",
    "    \"\"\"vの各要素の二乗を合計する\"\"\"\n",
    "    return sum(v_i ** 2 for v_i in v)"
   ]
  },
  {
   "cell_type": "markdown",
   "metadata": {},
   "source": [
    "このような関数を最大化、最小化することがあります。\n",
    "つまり最大の値をもたらす入力vを見つけ出すのです。\n",
    "\n",
    "このような関数において、勾配とは関数が最も急速に増加する方向です。\n",
    "\n",
    "関数を最大化する方法の一つ、開始点を無作為に選び、傾きを計算し、傾きの方向（値が最も大きく増加する方向）に小さく移動してたらしい開始点する。\n",
    "これを繰り返します。逆に最も小さくなる方向に移動すれば最小化になります。"
   ]
  },
  {
   "cell_type": "markdown",
   "metadata": {},
   "source": [
    "ｆが、1変数の関数であった場合、xにおける微分係数は、xを小さく変化させた際のf(x)の変化で求められます。\n",
    "これは差分商の、hを0に近づけた極限として定義されます。"
   ]
  },
  {
   "cell_type": "code",
   "execution_count": 2,
   "metadata": {
    "collapsed": true
   },
   "outputs": [],
   "source": [
    "# 微分係数を求める\n",
    "def difference_quotient(f,x,h):\n",
    "    return (f(x + h) - f(x)) / h"
   ]
  },
  {
   "cell_type": "markdown",
   "metadata": {},
   "source": [
    "二乗する関数のsqureの導関数を求めてみましょう"
   ]
  },
  {
   "cell_type": "code",
   "execution_count": 3,
   "metadata": {
    "collapsed": true
   },
   "outputs": [],
   "source": [
    "def square(x):\n",
    "    return x * x\n",
    "\n",
    "# 導関数\n",
    "def derivative(x):\n",
    "    return 2 * x"
   ]
  },
  {
   "cell_type": "code",
   "execution_count": 5,
   "metadata": {},
   "outputs": [
    {
     "data": {
      "image/png": "[encoded data removed]",
      "text/plain": [
       "<matplotlib.figure.Figure at 0x701cda0>"
      ]
     },
     "metadata": {},
     "output_type": "display_data"
    }
   ],
   "source": [
    "# 実際と理論値の導関数を比較\n",
    "import functools\n",
    "derivative_estimate = functools.partial(difference_quotient, square, h=0.00001)\n",
    "\n",
    "import matplotlib.pyplot as plt\n",
    "x = range(-10,10)\n",
    "plt.title(\"Actual vs Estimate\")\n",
    "plt.plot(x, map(derivative, x), 'rx', label=\"Actual\")\n",
    "plt.plot(x, map(derivative_estimate, x), 'b+', label=\"Estimate\")\n",
    "plt.legend(loc=9)\n",
    "plt.show()"
   ]
  },
  {
   "cell_type": "markdown",
   "metadata": {
    "collapsed": true
   },
   "source": [
    "fが多変数関数であった場合、差分商は複数存在します。\n",
    "それぞれの差分商は、対応するそれぞれの変数を微小に変化させた際に、fがどの程度変化するかを表します。\n",
    "i番目の変数以外を固定し、１変数の関数として扱うことで、i番目の差分商を計算します。\n"
   ]
  },
  {
   "cell_type": "code",
   "execution_count": 8,
   "metadata": {
    "collapsed": true
   },
   "outputs": [],
   "source": [
    "def partial_diffrence_quotient(f,v,y,h):\n",
    "    \"\"\"関数fとベクトルvに対するi番目の差分商を計算する\"\"\"\n",
    "    w = [v_j + (h if j == i else 0) # vのi番目にhを加える\n",
    "        for j, v_j in enumerate(v)]\n",
    "    \n",
    "    return (f(w) - f(v)) / h\n",
    "\n",
    "# 勾配\n",
    "def estimate_gradient(f, v, h=0.00001):\n",
    "    return [partial_diffrence_quotient(f,v,y,h)\n",
    "           for i, _ in enumerate(v)]"
   ]
  },
  {
   "cell_type": "markdown",
   "metadata": {
    "collapsed": true
   },
   "source": [
    "## scikit-learnの確率的勾配下降法\n",
    "scikit-learnにも確率的勾配下降法が用意されています。\n",
    "これを利用するというのは一つの手です。"
   ]
  }
 ],
 "metadata": {
  "kernelspec": {
   "display_name": "Python 2",
   "language": "python",
   "name": "python2"
  },
  "language_info": {
   "codemirror_mode": {
    "name": "ipython",
    "version": 2
   },
   "file_extension": ".py",
   "mimetype": "text/x-python",
   "name": "python",
   "nbconvert_exporter": "python",
   "pygments_lexer": "ipython2",
   "version": "2.7.13"
  }
 },
 "nbformat": 4,
 "nbformat_minor": 2
}
