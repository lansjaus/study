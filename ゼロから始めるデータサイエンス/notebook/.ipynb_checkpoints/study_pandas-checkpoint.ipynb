{
 "cells": [
  {
   "cell_type": "markdown",
   "metadata": {},
   "source": [
    "## データ型は、Numpyのarray"
   ]
  },
  {
   "cell_type": "code",
   "execution_count": 11,
   "metadata": {
    "collapsed": false
   },
   "outputs": [],
   "source": [
    "import pandas as pd"
   ]
  },
  {
   "cell_type": "code",
   "execution_count": 12,
   "metadata": {
    "collapsed": true
   },
   "outputs": [],
   "source": [
    "import sys\n",
    "import os"
   ]
  },
  {
   "cell_type": "code",
   "execution_count": 13,
   "metadata": {
    "collapsed": false
   },
   "outputs": [
    {
     "data": {
      "text/plain": [
       "'C:\\\\Users\\\\shintaro.fujikake\\\\study_datascience\\\\notebook'"
      ]
     },
     "execution_count": 13,
     "metadata": {},
     "output_type": "execute_result"
    }
   ],
   "source": [
    "os.getcwd()"
   ]
  },
  {
   "cell_type": "code",
   "execution_count": 14,
   "metadata": {
    "collapsed": false,
    "scrolled": true
   },
   "outputs": [
    {
     "data": {
      "text/html": [
       "<div>\n",
       "<table border=\"1\" class=\"dataframe\">\n",
       "  <thead>\n",
       "    <tr style=\"text-align: right;\">\n",
       "      <th></th>\n",
       "      <th>A</th>\n",
       "      <th>B</th>\n",
       "      <th>C</th>\n",
       "    </tr>\n",
       "  </thead>\n",
       "  <tbody>\n",
       "    <tr>\n",
       "      <th>2014</th>\n",
       "      <td>1</td>\n",
       "      <td>2</td>\n",
       "      <td>3</td>\n",
       "    </tr>\n",
       "    <tr>\n",
       "      <th>2015</th>\n",
       "      <td>4</td>\n",
       "      <td>5</td>\n",
       "      <td>6</td>\n",
       "    </tr>\n",
       "    <tr>\n",
       "      <th>2016</th>\n",
       "      <td>7</td>\n",
       "      <td>8</td>\n",
       "      <td>9</td>\n",
       "    </tr>\n",
       "  </tbody>\n",
       "</table>\n",
       "</div>"
      ],
      "text/plain": [
       "      A  B  C\n",
       "2014  1  2  3\n",
       "2015  4  5  6\n",
       "2016  7  8  9"
      ]
     },
     "execution_count": 14,
     "metadata": {},
     "output_type": "execute_result"
    }
   ],
   "source": [
    "pd.read_csv('../dat/if_test.csv', index_col=0)"
   ]
  },
  {
   "cell_type": "markdown",
   "metadata": {},
   "source": [
    "## pandas_datareaderをインストール"
   ]
  },
  {
   "cell_type": "code",
   "execution_count": 15,
   "metadata": {
    "collapsed": false
   },
   "outputs": [
    {
     "name": "stdout",
     "output_type": "stream",
     "text": [
      "Requirement already satisfied: pandas_datareader in c:\\programdata\\anaconda3\\lib\\site-packages\n",
      "Requirement already satisfied: requests-file in c:\\programdata\\anaconda3\\lib\\site-packages (from pandas_datareader)\n",
      "Requirement already satisfied: requests-ftp in c:\\programdata\\anaconda3\\lib\\site-packages (from pandas_datareader)\n",
      "Requirement already satisfied: pandas in c:\\programdata\\anaconda3\\lib\\site-packages (from pandas_datareader)\n",
      "Requirement already satisfied: requests>=2.3.0 in c:\\programdata\\anaconda3\\lib\\site-packages (from pandas_datareader)\n",
      "Requirement already satisfied: six in c:\\programdata\\anaconda3\\lib\\site-packages (from requests-file->pandas_datareader)\n",
      "Requirement already satisfied: python-dateutil>=2 in c:\\programdata\\anaconda3\\lib\\site-packages (from pandas->pandas_datareader)\n",
      "Requirement already satisfied: pytz>=2011k in c:\\programdata\\anaconda3\\lib\\site-packages (from pandas->pandas_datareader)\n",
      "Requirement already satisfied: numpy>=1.7.0 in c:\\programdata\\anaconda3\\lib\\site-packages (from pandas->pandas_datareader)\n"
     ]
    }
   ],
   "source": [
    "!pip install pandas_datareader"
   ]
  },
  {
   "cell_type": "code",
   "execution_count": 16,
   "metadata": {
    "collapsed": false
   },
   "outputs": [],
   "source": [
    "import pandas_datareader.data as web"
   ]
  },
  {
   "cell_type": "markdown",
   "metadata": {},
   "source": [
    "## 番外：マジックコマンドでbash実行可能"
   ]
  },
  {
   "cell_type": "code",
   "execution_count": 17,
   "metadata": {
    "collapsed": false
   },
   "outputs": [
    {
     "name": "stdout",
     "output_type": "stream",
     "text": [
      " ドライブ C のボリューム ラベルがありません。\n",
      " ボリューム シリアル番号は 5ACF-8229 です\n",
      "\n",
      " C:\\Users\\shintaro.fujikake\\study_datascience\\notebook のディレクトリ\n",
      "\n",
      "\n",
      " C:\\Users\\shintaro.fujikake\\study_datascience\\notebook のディレクトリ\n",
      "\n"
     ]
    },
    {
     "name": "stderr",
     "output_type": "stream",
     "text": [
      "ファイルが見つかりません\n"
     ]
    }
   ],
   "source": [
    "%ls # %がマジックコマンド"
   ]
  },
  {
   "cell_type": "code",
   "execution_count": 18,
   "metadata": {
    "collapsed": false
   },
   "outputs": [
    {
     "data": {
      "text/plain": [
       "[\"'ls' は、内部コマンドまたは外部コマンド、\", '操作可能なプログラムまたはバッチ ファイルとして認識されていません。']"
      ]
     },
     "execution_count": 18,
     "metadata": {},
     "output_type": "execute_result"
    }
   ],
   "source": [
    "!!ls # linuxだと結果がリストに格納される"
   ]
  },
  {
   "cell_type": "markdown",
   "metadata": {},
   "source": [
    "## web経由からデータをロード"
   ]
  },
  {
   "cell_type": "markdown",
   "metadata": {},
   "source": [
    "### yahoo.comの日経平均225のデータ取得"
   ]
  },
  {
   "cell_type": "code",
   "execution_count": 19,
   "metadata": {
    "collapsed": true
   },
   "outputs": [],
   "source": [
    "%matplotlib inline\n",
    "import numpy as np\n",
    "import matplotlib.pyplot as plt"
   ]
  },
  {
   "cell_type": "code",
   "execution_count": 20,
   "metadata": {
    "collapsed": false
   },
   "outputs": [],
   "source": [
    "N225 = web.DataReader('^N225', 'yahoo', start='2014-10-01')"
   ]
  },
  {
   "cell_type": "code",
   "execution_count": 21,
   "metadata": {
    "collapsed": false
   },
   "outputs": [
    {
     "data": {
      "text/plain": [
       "<bound method NDFrame.tail of                     Open          High           Low         Close  Volume  \\\n",
       "Date                                                                         \n",
       "2014-10-01  16173.389648  16225.959961  16081.009766  16082.250000  137100   \n",
       "2014-10-02  15895.200195  15922.509766  15646.400391  15661.990234  175400   \n",
       "2014-10-03  15616.480469  15708.650391  15559.070312  15708.650391  139700   \n",
       "2014-10-06  15882.280273  15970.650391  15808.219727  15890.950195  127600   \n",
       "2014-10-07  15841.169922  15913.519531  15755.570312  15783.830078  134800   \n",
       "2014-10-08  15574.599609  15643.629883  15520.809570  15595.980469  150200   \n",
       "2014-10-09  15681.530273  15732.320312  15461.089844  15478.929688  141000   \n",
       "2014-10-10  15292.879883  15345.780273  15221.830078  15300.549805  186100   \n",
       "2014-10-13  15300.549805  15300.549805  15300.549805  15300.549805       0   \n",
       "2014-10-14  15036.870117  15089.900391  14919.709961  14936.509766  186200   \n",
       "2014-10-15  15009.750000  15084.610352  14916.650391  15073.519531  152600   \n",
       "2014-10-16  14805.160156  14807.080078  14672.549805  14738.379883  198900   \n",
       "2014-10-17  14796.320312  14830.669922  14529.030273  14532.509766  178600   \n",
       "2014-10-20  14822.839844  15111.230469  14819.690430  15111.230469  162000   \n",
       "2014-10-21  15115.290039  15115.290039  14761.839844  14804.280273  143000   \n",
       "2014-10-22  15038.190430  15195.780273  15001.429688  15195.769531  137400   \n",
       "2014-10-23  15093.780273  15232.509766  15059.639648  15138.959961  119600   \n",
       "2014-10-24  15354.349609  15377.049805  15232.000000  15291.639648  121800   \n",
       "2014-10-27  15404.280273  15424.049805  15333.709961  15388.719727  121000   \n",
       "2014-10-28  15363.280273  15374.459961  15263.360352  15329.910156  122300   \n",
       "2014-10-29  15442.389648  15595.290039  15394.790039  15553.910156  148800   \n",
       "2014-10-30  15596.500000  15701.040039  15584.830078  15658.200195  184100   \n",
       "2014-10-31  15817.139648  16533.910156  15817.139648  16413.759766  268500   \n",
       "2014-11-04  16732.849609  17127.660156  16720.990234  16862.470703  335600   \n",
       "2014-11-05  16785.439453  16995.019531  16778.279297  16937.320312  232200   \n",
       "2014-11-06  16993.460938  17045.939453  16725.449219  16792.480469  199000   \n",
       "2014-11-07  16934.039062  16938.199219  16824.080078  16880.380859  153300   \n",
       "2014-11-10  16758.269531  16818.050781  16713.369141  16780.529297  125600   \n",
       "2014-11-11  16869.490234  17160.119141  16855.300781  17124.109375  154000   \n",
       "2014-11-12  17253.119141  17443.740234  17170.000000  17197.050781  193300   \n",
       "...                  ...           ...           ...           ...     ...   \n",
       "2017-03-22  19146.619141  19183.269531  19026.529297  19041.380859       0   \n",
       "2017-03-23  19048.839844  19105.109375  18973.750000  19085.310547       0   \n",
       "2017-03-24  19066.349609  19296.050781  19060.640625  19262.529297       0   \n",
       "2017-03-27  18985.589844  18985.589844  18985.589844  18985.589844       0   \n",
       "2017-03-28  19159.070312  19203.640625  19113.439453  19202.869141       0   \n",
       "2017-03-29  19216.779297  19251.300781  19164.609375  19217.480469       0   \n",
       "2017-03-30  19150.820312  19218.080078  19043.480469  19063.220703       0   \n",
       "2017-03-31  19170.419922  19210.919922  18909.259766  18909.259766       0   \n",
       "2017-04-03  18988.000000  19068.619141  18920.519531  18983.230469       0   \n",
       "2017-04-04  18933.820312  18947.330078  18703.630859  18810.250000       0   \n",
       "2017-04-05  18900.699219  18941.939453  18773.939453  18861.269531       0   \n",
       "2017-04-06  18754.369141  18797.439453  18532.650391  18597.060547       0   \n",
       "2017-04-07  18714.980469  18785.730469  18517.429688  18664.630859       0   \n",
       "2017-04-10  18800.220703  18850.800781  18762.699219  18797.880859       0   \n",
       "2017-04-11  18717.550781  18767.699219  18661.859375  18747.869141  105100   \n",
       "2017-04-12  18592.099609  18602.500000  18460.589844  18552.609375  116300   \n",
       "2017-04-13  18391.720703  18455.250000  18304.720703  18426.839844  123700   \n",
       "2017-04-14  18531.910156  18531.910156  18285.730469  18335.630859       0   \n",
       "2017-04-17  18239.839844  18361.439453  18224.679688  18355.259766       0   \n",
       "2017-04-18  18497.380859  18547.460938  18362.730469  18418.589844   93300   \n",
       "2017-04-19  18327.330078  18467.730469  18327.330078  18432.199219  120800   \n",
       "2017-04-20  18446.390625  18523.400391  18420.820312  18430.490234  116900   \n",
       "2017-04-21  18591.820312  18648.279297  18542.419922  18620.750000  113200   \n",
       "2017-04-24  18890.380859  18910.330078  18840.130859  18875.880859   98100   \n",
       "2017-04-25  18872.560547  19109.759766  18867.189453  19079.330078  118000   \n",
       "2017-04-26  19184.919922  19289.429688  19170.859375  19289.429688  129400   \n",
       "2017-04-27  19205.589844  19281.699219  19199.589844  19251.869141  116700   \n",
       "2017-04-28  19240.650391  19264.570312  19164.679688  19196.740234  117800   \n",
       "2017-05-01  19154.029297  19311.210938  19144.619141  19310.519531  106500   \n",
       "2017-05-02  19335.720703  19464.300781  19335.019531  19445.699219  112700   \n",
       "\n",
       "               Adj Close  \n",
       "Date                      \n",
       "2014-10-01  16082.250000  \n",
       "2014-10-02  15661.990234  \n",
       "2014-10-03  15708.650391  \n",
       "2014-10-06  15890.950195  \n",
       "2014-10-07  15783.830078  \n",
       "2014-10-08  15595.980469  \n",
       "2014-10-09  15478.929688  \n",
       "2014-10-10  15300.549805  \n",
       "2014-10-13  15300.549805  \n",
       "2014-10-14  14936.509766  \n",
       "2014-10-15  15073.519531  \n",
       "2014-10-16  14738.379883  \n",
       "2014-10-17  14532.509766  \n",
       "2014-10-20  15111.230469  \n",
       "2014-10-21  14804.280273  \n",
       "2014-10-22  15195.769531  \n",
       "2014-10-23  15138.959961  \n",
       "2014-10-24  15291.639648  \n",
       "2014-10-27  15388.719727  \n",
       "2014-10-28  15329.910156  \n",
       "2014-10-29  15553.910156  \n",
       "2014-10-30  15658.200195  \n",
       "2014-10-31  16413.759766  \n",
       "2014-11-04  16862.470703  \n",
       "2014-11-05  16937.320312  \n",
       "2014-11-06  16792.480469  \n",
       "2014-11-07  16880.380859  \n",
       "2014-11-10  16780.529297  \n",
       "2014-11-11  17124.109375  \n",
       "2014-11-12  17197.050781  \n",
       "...                  ...  \n",
       "2017-03-22  19041.380859  \n",
       "2017-03-23  19085.310547  \n",
       "2017-03-24  19262.529297  \n",
       "2017-03-27  18985.589844  \n",
       "2017-03-28  19202.869141  \n",
       "2017-03-29  19217.480469  \n",
       "2017-03-30  19063.220703  \n",
       "2017-03-31  18909.259766  \n",
       "2017-04-03  18983.230469  \n",
       "2017-04-04  18810.250000  \n",
       "2017-04-05  18861.269531  \n",
       "2017-04-06  18597.060547  \n",
       "2017-04-07  18664.630859  \n",
       "2017-04-10  18797.880859  \n",
       "2017-04-11  18747.869141  \n",
       "2017-04-12  18552.609375  \n",
       "2017-04-13  18426.839844  \n",
       "2017-04-14  18335.630859  \n",
       "2017-04-17  18355.259766  \n",
       "2017-04-18  18418.589844  \n",
       "2017-04-19  18432.199219  \n",
       "2017-04-20  18430.490234  \n",
       "2017-04-21  18620.750000  \n",
       "2017-04-24  18875.880859  \n",
       "2017-04-25  19079.330078  \n",
       "2017-04-26  19289.429688  \n",
       "2017-04-27  19251.869141  \n",
       "2017-04-28  19196.740234  \n",
       "2017-05-01  19310.519531  \n",
       "2017-05-02  19445.699219  \n",
       "\n",
       "[641 rows x 6 columns]>"
      ]
     },
     "execution_count": 21,
     "metadata": {},
     "output_type": "execute_result"
    }
   ],
   "source": [
    "N225.tail"
   ]
  },
  {
   "cell_type": "code",
   "execution_count": 22,
   "metadata": {
    "collapsed": false,
    "scrolled": true
   },
   "outputs": [
    {
     "data": {
      "image/png": "[encoded data removed]",
      "text/plain": [
       "<matplotlib.figure.Figure at 0x1d347fe90b8>"
      ]
     },
     "metadata": {},
     "output_type": "display_data"
    }
   ],
   "source": [
    "N225['Open'].plot();"
   ]
  },
  {
   "cell_type": "markdown",
   "metadata": {},
   "source": [
    "### GDP"
   ]
  },
  {
   "cell_type": "code",
   "execution_count": 23,
   "metadata": {
    "collapsed": false
   },
   "outputs": [],
   "source": [
    "from pandas_datareader import wb\n",
    "# http://data.worldbank.org/indicator"
   ]
  },
  {
   "cell_type": "code",
   "execution_count": 24,
   "metadata": {
    "collapsed": false
   },
   "outputs": [],
   "source": [
    "# data種類：NY.GDP.MKTP.CD (http://data.worldbank.org/indicator/NY.GDP.MKTP.CD)\n",
    "f = wb.download(indicator='NY.GDP.MKTP.CD', country=['CN','JP','US'], start=1960, end=2016)"
   ]
  },
  {
   "cell_type": "code",
   "execution_count": 25,
   "metadata": {
    "collapsed": false
   },
   "outputs": [
    {
     "data": {
      "text/plain": [
       "<bound method NDFrame.tail of         NY.GDP.MKTP.CD                            \n",
       "country          China         Japan United States\n",
       "year                                              \n",
       "1960      5.971647e+10  4.430734e+10  5.433000e+11\n",
       "1961      5.005687e+10  5.350862e+10  5.633000e+11\n",
       "1962      4.720936e+10  6.072302e+10  6.051000e+11\n",
       "1963      5.070680e+10  6.949813e+10  6.386000e+11\n",
       "1964      5.970834e+10  8.174901e+10  6.858000e+11\n",
       "1965      7.043627e+10  9.095028e+10  7.437000e+11\n",
       "1966      7.672029e+10  1.056281e+11  8.150000e+11\n",
       "1967      7.288163e+10  1.237819e+11  8.617000e+11\n",
       "1968      7.084654e+10  1.466011e+11  9.425000e+11\n",
       "1969      7.970591e+10  1.722042e+11  1.019900e+12\n",
       "1970      9.260297e+10  2.090706e+11  1.075884e+12\n",
       "1971      9.980096e+10  2.361548e+11  1.167770e+12\n",
       "1972      1.136876e+11  3.127380e+11  1.282449e+12\n",
       "1973      1.385443e+11  4.248911e+11  1.428549e+12\n",
       "1974      1.441821e+11  4.716432e+11  1.548825e+12\n",
       "1975      1.634316e+11  5.128614e+11  1.688923e+12\n",
       "1976      1.539405e+11  5.764059e+11  1.877587e+12\n",
       "1977      1.749381e+11  7.094047e+11  2.085951e+12\n",
       "1978      1.495407e+11  9.967418e+11  2.356571e+12\n",
       "1979      1.782826e+11  1.037453e+12  2.632143e+12\n",
       "1980      1.911500e+11  1.086988e+12  2.862505e+12\n",
       "1981      1.958651e+11  1.201466e+12  3.210956e+12\n",
       "1982      2.050916e+11  1.116841e+12  3.344991e+12\n",
       "1983      2.306858e+11  1.218106e+12  3.638137e+12\n",
       "1984      2.599464e+11  1.294609e+12  4.040693e+12\n",
       "1985      3.094864e+11  1.384532e+12  4.346734e+12\n",
       "1986      3.007594e+11  2.051061e+12  4.590155e+12\n",
       "1987      2.729731e+11  2.485236e+12  4.870217e+12\n",
       "1988      3.123539e+11  3.015394e+12  5.252629e+12\n",
       "1989      3.477672e+11  3.017052e+12  5.657693e+12\n",
       "1990      3.608585e+11  3.103698e+12  5.979589e+12\n",
       "1991      3.833728e+11  3.536801e+12  6.174043e+12\n",
       "1992      4.269152e+11  3.852794e+12  6.539299e+12\n",
       "1993      4.447309e+11  4.414963e+12  6.878718e+12\n",
       "1994      5.643252e+11  4.907039e+12  7.308755e+12\n",
       "1995      7.345480e+11  5.449116e+12  7.664060e+12\n",
       "1996      8.637464e+11  4.833713e+12  8.100201e+12\n",
       "1997      9.616034e+11  4.414733e+12  8.608515e+12\n",
       "1998      1.029043e+12  4.032510e+12  9.089168e+12\n",
       "1999      1.093998e+12  4.562079e+12  9.660624e+12\n",
       "2000      1.211346e+12  4.887520e+12  1.028478e+13\n",
       "2001      1.339395e+12  4.303544e+12  1.062182e+13\n",
       "2002      1.470550e+12  4.115116e+12  1.097751e+13\n",
       "2003      1.660288e+12  4.445658e+12  1.151067e+13\n",
       "2004      1.955347e+12  4.815149e+12  1.227493e+13\n",
       "2005      2.285966e+12  4.755411e+12  1.309373e+13\n",
       "2006      2.752132e+12  4.530377e+12  1.385589e+13\n",
       "2007      3.552183e+12  4.515265e+12  1.447764e+13\n",
       "2008      4.598205e+12  5.037908e+12  1.471858e+13\n",
       "2009      5.109954e+12  5.231383e+12  1.441874e+13\n",
       "2010      6.100620e+12  5.700096e+12  1.496437e+13\n",
       "2011      7.572554e+12  6.157461e+12  1.551793e+13\n",
       "2012      8.560547e+12  6.203213e+12  1.615526e+13\n",
       "2013      9.607224e+12  5.155717e+12  1.669152e+13\n",
       "2014      1.048237e+13  4.848733e+12  1.739310e+13\n",
       "2015      1.106466e+13  4.383076e+12  1.803665e+13\n",
       "2016               NaN           NaN           NaN>"
      ]
     },
     "execution_count": 25,
     "metadata": {},
     "output_type": "execute_result"
    }
   ],
   "source": [
    "f2 = f.unstack(0)\n",
    "f2.tail"
   ]
  },
  {
   "cell_type": "code",
   "execution_count": 26,
   "metadata": {
    "collapsed": false
   },
   "outputs": [
    {
     "data": {
      "image/png": "[encoded data removed]",
      "text/plain": [
       "<matplotlib.figure.Figure at 0x1d34812ad68>"
      ]
     },
     "metadata": {},
     "output_type": "display_data"
    }
   ],
   "source": [
    "f2.columns = ['China', 'Japan', 'United States']\n",
    "f2.plot();"
   ]
  },
  {
   "cell_type": "markdown",
   "metadata": {},
   "source": [
    "### Agricultural land (% of land area)"
   ]
  },
  {
   "cell_type": "code",
   "execution_count": 27,
   "metadata": {
    "collapsed": true
   },
   "outputs": [],
   "source": [
    "import pandas_datareader.data as web"
   ]
  },
  {
   "cell_type": "code",
   "execution_count": 28,
   "metadata": {
    "collapsed": false
   },
   "outputs": [],
   "source": [
    "d = wb.download(indicator='AG.LND.AGRI.ZS', country=['AF','AL','DZ'], start=1961, end=2016)"
   ]
  },
  {
   "cell_type": "code",
   "execution_count": 29,
   "metadata": {
    "collapsed": false
   },
   "outputs": [
    {
     "data": {
      "text/html": [
       "<div>\n",
       "<table border=\"1\" class=\"dataframe\">\n",
       "  <thead>\n",
       "    <tr>\n",
       "      <th></th>\n",
       "      <th colspan=\"3\" halign=\"left\">AG.LND.AGRI.ZS</th>\n",
       "    </tr>\n",
       "    <tr>\n",
       "      <th>country</th>\n",
       "      <th>Afghanistan</th>\n",
       "      <th>Albania</th>\n",
       "      <th>Algeria</th>\n",
       "    </tr>\n",
       "    <tr>\n",
       "      <th>year</th>\n",
       "      <th></th>\n",
       "      <th></th>\n",
       "      <th></th>\n",
       "    </tr>\n",
       "  </thead>\n",
       "  <tbody>\n",
       "    <tr>\n",
       "      <th>1961</th>\n",
       "      <td>57.745918</td>\n",
       "      <td>44.963504</td>\n",
       "      <td>19.091505</td>\n",
       "    </tr>\n",
       "    <tr>\n",
       "      <th>1962</th>\n",
       "      <td>57.837821</td>\n",
       "      <td>44.963504</td>\n",
       "      <td>18.851764</td>\n",
       "    </tr>\n",
       "    <tr>\n",
       "      <th>1963</th>\n",
       "      <td>57.914407</td>\n",
       "      <td>45.000000</td>\n",
       "      <td>18.688018</td>\n",
       "    </tr>\n",
       "    <tr>\n",
       "      <th>1964</th>\n",
       "      <td>58.010906</td>\n",
       "      <td>44.890511</td>\n",
       "      <td>18.542746</td>\n",
       "    </tr>\n",
       "    <tr>\n",
       "      <th>1965</th>\n",
       "      <td>58.013969</td>\n",
       "      <td>45.145985</td>\n",
       "      <td>18.544006</td>\n",
       "    </tr>\n",
       "  </tbody>\n",
       "</table>\n",
       "</div>"
      ],
      "text/plain": [
       "        AG.LND.AGRI.ZS                      \n",
       "country    Afghanistan    Albania    Algeria\n",
       "year                                        \n",
       "1961         57.745918  44.963504  19.091505\n",
       "1962         57.837821  44.963504  18.851764\n",
       "1963         57.914407  45.000000  18.688018\n",
       "1964         58.010906  44.890511  18.542746\n",
       "1965         58.013969  45.145985  18.544006"
      ]
     },
     "execution_count": 29,
     "metadata": {},
     "output_type": "execute_result"
    }
   ],
   "source": [
    "d2 = d.unstack(0)\n",
    "d2.head()"
   ]
  },
  {
   "cell_type": "code",
   "execution_count": 30,
   "metadata": {
    "collapsed": false
   },
   "outputs": [
    {
     "data": {
      "image/png": "[encoded data removed]",
      "text/plain": [
       "<matplotlib.figure.Figure at 0x1d3478588d0>"
      ]
     },
     "metadata": {},
     "output_type": "display_data"
    }
   ],
   "source": [
    "d2.columns = ['Afghanistan', 'Albania', 'Algeria']\n",
    "d2.plot();"
   ]
  },
  {
   "cell_type": "markdown",
   "metadata": {},
   "source": [
    "## html解析からのリアルタイムデータの取得"
   ]
  },
  {
   "cell_type": "markdown",
   "metadata": {},
   "source": [
    "### スクレイピングのモジュールインストール"
   ]
  },
  {
   "cell_type": "code",
   "execution_count": 31,
   "metadata": {
    "collapsed": false
   },
   "outputs": [
    {
     "name": "stdout",
     "output_type": "stream",
     "text": [
      "Requirement already satisfied: lxml in c:\\programdata\\anaconda3\\lib\\site-packages\n",
      "Requirement already satisfied: html5lib in c:\\programdata\\anaconda3\\lib\\site-packages\n",
      "Requirement already satisfied: bs4 in c:\\programdata\\anaconda3\\lib\\site-packages\n",
      "Requirement already satisfied: webencodings in c:\\programdata\\anaconda3\\lib\\site-packages (from html5lib)\n",
      "Requirement already satisfied: six in c:\\programdata\\anaconda3\\lib\\site-packages (from html5lib)\n",
      "Requirement already satisfied: setuptools>=18.5 in c:\\programdata\\anaconda3\\lib\\site-packages\\setuptools-27.2.0-py3.6.egg (from html5lib)\n",
      "Requirement already satisfied: beautifulsoup4 in c:\\programdata\\anaconda3\\lib\\site-packages (from bs4)\n"
     ]
    }
   ],
   "source": [
    "!pip install lxml html5lib bs4"
   ]
  },
  {
   "cell_type": "code",
   "execution_count": 32,
   "metadata": {
    "collapsed": true
   },
   "outputs": [],
   "source": [
    "import pandas as pd"
   ]
  },
  {
   "cell_type": "code",
   "execution_count": 33,
   "metadata": {
    "collapsed": false
   },
   "outputs": [
    {
     "name": "stdout",
     "output_type": "stream",
     "text": [
      "Requirement already satisfied: BeautifulSoup4 in c:\\programdata\\anaconda3\\lib\\site-packages\n"
     ]
    }
   ],
   "source": [
    "!pip install BeautifulSoup4"
   ]
  },
  {
   "cell_type": "markdown",
   "metadata": {},
   "source": [
    "#### tableをスクレイピング　https://www.nta.go.jp/taxanswer/shotoku/2260.htm"
   ]
  },
  {
   "cell_type": "code",
   "execution_count": 34,
   "metadata": {
    "collapsed": false
   },
   "outputs": [
    {
     "name": "stdout",
     "output_type": "stream",
     "text": [
      "Requirement already satisfied: pandas in c:\\programdata\\anaconda3\\lib\\site-packages\n",
      "Requirement already satisfied: lxml in c:\\programdata\\anaconda3\\lib\\site-packages\n",
      "Requirement already satisfied: html5lib in c:\\programdata\\anaconda3\\lib\\site-packages\n",
      "Requirement already satisfied: BeautifulSoup4 in c:\\programdata\\anaconda3\\lib\\site-packages\n",
      "Requirement already satisfied: python-dateutil>=2 in c:\\programdata\\anaconda3\\lib\\site-packages (from pandas)\n",
      "Requirement already satisfied: pytz>=2011k in c:\\programdata\\anaconda3\\lib\\site-packages (from pandas)\n",
      "Requirement already satisfied: numpy>=1.7.0 in c:\\programdata\\anaconda3\\lib\\site-packages (from pandas)\n",
      "Requirement already satisfied: setuptools>=18.5 in c:\\programdata\\anaconda3\\lib\\site-packages\\setuptools-27.2.0-py3.6.egg (from html5lib)\n",
      "Requirement already satisfied: webencodings in c:\\programdata\\anaconda3\\lib\\site-packages (from html5lib)\n",
      "Requirement already satisfied: six in c:\\programdata\\anaconda3\\lib\\site-packages (from html5lib)\n"
     ]
    }
   ],
   "source": [
    "!pip install pandas lxml html5lib BeautifulSoup4"
   ]
  },
  {
   "cell_type": "code",
   "execution_count": 35,
   "metadata": {
    "collapsed": true
   },
   "outputs": [],
   "source": [
    "import pandas as pd"
   ]
  },
  {
   "cell_type": "code",
   "execution_count": 36,
   "metadata": {
    "collapsed": true
   },
   "outputs": [],
   "source": [
    "url = 'https://www.nta.go.jp/taxanswer/shotoku/2260.htm'"
   ]
  },
  {
   "cell_type": "markdown",
   "metadata": {},
   "source": [
    "![国税局のHP](../img/sample_scraping.JPG)"
   ]
  },
  {
   "cell_type": "code",
   "execution_count": 37,
   "metadata": {
    "collapsed": true
   },
   "outputs": [],
   "source": [
    "fetched_dataframes = pd.io.html.read_html(url)"
   ]
  },
  {
   "cell_type": "code",
   "execution_count": 38,
   "metadata": {
    "collapsed": false
   },
   "outputs": [
    {
     "data": {
      "text/html": [
       "<div>\n",
       "<table border=\"1\" class=\"dataframe\">\n",
       "  <thead>\n",
       "    <tr style=\"text-align: right;\">\n",
       "      <th></th>\n",
       "      <th>0</th>\n",
       "      <th>1</th>\n",
       "      <th>2</th>\n",
       "    </tr>\n",
       "  </thead>\n",
       "  <tbody>\n",
       "    <tr>\n",
       "      <th>0</th>\n",
       "      <td>課税される所得金額</td>\n",
       "      <td>税率</td>\n",
       "      <td>控除額</td>\n",
       "    </tr>\n",
       "    <tr>\n",
       "      <th>1</th>\n",
       "      <td>195万円以下</td>\n",
       "      <td>5％</td>\n",
       "      <td>0円</td>\n",
       "    </tr>\n",
       "    <tr>\n",
       "      <th>2</th>\n",
       "      <td>195万円を超え 330万円以下</td>\n",
       "      <td>10％</td>\n",
       "      <td>97,500円</td>\n",
       "    </tr>\n",
       "    <tr>\n",
       "      <th>3</th>\n",
       "      <td>330万円を超え 695万円以下</td>\n",
       "      <td>20％</td>\n",
       "      <td>427,500円</td>\n",
       "    </tr>\n",
       "    <tr>\n",
       "      <th>4</th>\n",
       "      <td>695万円を超え 900万円以下</td>\n",
       "      <td>23％</td>\n",
       "      <td>636,000円</td>\n",
       "    </tr>\n",
       "    <tr>\n",
       "      <th>5</th>\n",
       "      <td>900万円を超え 1,800万円以下</td>\n",
       "      <td>33％</td>\n",
       "      <td>1,536,000円</td>\n",
       "    </tr>\n",
       "    <tr>\n",
       "      <th>6</th>\n",
       "      <td>1,800万円を超え4,000万円以下</td>\n",
       "      <td>40％</td>\n",
       "      <td>2,796,000円</td>\n",
       "    </tr>\n",
       "    <tr>\n",
       "      <th>7</th>\n",
       "      <td>4,000万円超</td>\n",
       "      <td>45％</td>\n",
       "      <td>4,796,000円</td>\n",
       "    </tr>\n",
       "  </tbody>\n",
       "</table>\n",
       "</div>"
      ],
      "text/plain": [
       "                     0    1           2\n",
       "0            課税される所得金額   税率         控除額\n",
       "1              195万円以下   5％          0円\n",
       "2     195万円を超え 330万円以下  10％     97,500円\n",
       "3     330万円を超え 695万円以下  20％    427,500円\n",
       "4     695万円を超え 900万円以下  23％    636,000円\n",
       "5   900万円を超え 1,800万円以下  33％  1,536,000円\n",
       "6  1,800万円を超え4,000万円以下  40％  2,796,000円\n",
       "7             4,000万円超  45％  4,796,000円"
      ]
     },
     "execution_count": 38,
     "metadata": {},
     "output_type": "execute_result"
    }
   ],
   "source": [
    "fetched_dataframes[0]"
   ]
  },
  {
   "cell_type": "code",
   "execution_count": 39,
   "metadata": {
    "collapsed": false
   },
   "outputs": [
    {
     "data": {
      "text/html": [
       "<div>\n",
       "<table border=\"1\" class=\"dataframe\">\n",
       "  <thead>\n",
       "    <tr style=\"text-align: right;\">\n",
       "      <th></th>\n",
       "      <th>0</th>\n",
       "      <th>1</th>\n",
       "      <th>2</th>\n",
       "    </tr>\n",
       "  </thead>\n",
       "  <tbody>\n",
       "    <tr>\n",
       "      <th>0</th>\n",
       "      <td>課税される所得金額</td>\n",
       "      <td>税率</td>\n",
       "      <td>控除額</td>\n",
       "    </tr>\n",
       "    <tr>\n",
       "      <th>1</th>\n",
       "      <td>195万円以下</td>\n",
       "      <td>5％</td>\n",
       "      <td>0円</td>\n",
       "    </tr>\n",
       "    <tr>\n",
       "      <th>2</th>\n",
       "      <td>195万円を超え 330万円以下</td>\n",
       "      <td>10％</td>\n",
       "      <td>97,500円</td>\n",
       "    </tr>\n",
       "    <tr>\n",
       "      <th>3</th>\n",
       "      <td>330万円を超え 695万円以下</td>\n",
       "      <td>20％</td>\n",
       "      <td>427,500円</td>\n",
       "    </tr>\n",
       "    <tr>\n",
       "      <th>4</th>\n",
       "      <td>695万円を超え 900万円以下</td>\n",
       "      <td>23％</td>\n",
       "      <td>636,000円</td>\n",
       "    </tr>\n",
       "    <tr>\n",
       "      <th>5</th>\n",
       "      <td>900万円を超え 1,800万円以下</td>\n",
       "      <td>33％</td>\n",
       "      <td>1,536,000円</td>\n",
       "    </tr>\n",
       "    <tr>\n",
       "      <th>6</th>\n",
       "      <td>1,800万円超</td>\n",
       "      <td>40％</td>\n",
       "      <td>2,796,000円</td>\n",
       "    </tr>\n",
       "  </tbody>\n",
       "</table>\n",
       "</div>"
      ],
      "text/plain": [
       "                    0    1           2\n",
       "0           課税される所得金額   税率         控除額\n",
       "1             195万円以下   5％          0円\n",
       "2    195万円を超え 330万円以下  10％     97,500円\n",
       "3    330万円を超え 695万円以下  20％    427,500円\n",
       "4    695万円を超え 900万円以下  23％    636,000円\n",
       "5  900万円を超え 1,800万円以下  33％  1,536,000円\n",
       "6            1,800万円超  40％  2,796,000円"
      ]
     },
     "execution_count": 39,
     "metadata": {},
     "output_type": "execute_result"
    }
   ],
   "source": [
    "fetched_dataframes[1]"
   ]
  }
 ],
 "metadata": {
  "kernelspec": {
   "display_name": "Python 3",
   "language": "python",
   "name": "python3"
  },
  "language_info": {
   "codemirror_mode": {
    "name": "ipython",
    "version": 3
   },
   "file_extension": ".py",
   "mimetype": "text/x-python",
   "name": "python",
   "nbconvert_exporter": "python",
   "pygments_lexer": "ipython3",
   "version": "3.6.0"
  }
 },
 "nbformat": 4,
 "nbformat_minor": 2
}
