{
 "cells": [
  {
   "cell_type": "markdown",
   "metadata": {},
   "source": [
    "# 仮説と推定\n",
    "分析は、データとそれを生成するプロセスに関する仮説をたて、検定を行う作業が含まれます\n",
    "\n",
    "## 統計的仮説検定\n",
    "ある仮説が真である可能性が高いか否かを示さなければならない場合があります。\n",
    "データに関する統計量に言い換えられる、ある種の主張が仮説です。\n",
    "統計量とは、様々な仮定がどの程度確からしいかを提示できます。\n",
    "\n",
    "古典的な設定では、帰無仮説H0が基本的な立ち位置を表し、対立仮説H1と比較されます。\n",
    "統計量を用いて、帰無仮説を棄却できるかを決定します。"
   ]
  },
  {
   "cell_type": "markdown",
   "metadata": {},
   "source": [
    "## コイン投げの例\n",
    "コインに歪みがあるかを確認したい。\n",
    "コインを投げて表がでる確率をpとした場合、コインが歪みがないことを示す帰無仮説は、p=0.5になる。\n",
    "検定を用いて比較する。\n",
    "\n",
    "検定では、コインをn回投げて、表が出た回数Xを数えます。\n",
    "コイン投げはベルヌーイ試行にあたり、Xは二項分布 binomial(n,p)の確率変数になる。\n"
   ]
  },
  {
   "cell_type": "code",
   "execution_count": 15,
   "metadata": {
    "collapsed": false
   },
   "outputs": [],
   "source": [
    "import math\n",
    "def normal_approximation(n,p):\n",
    "    mu = p * n\n",
    "    sigma = math.sqrt(p * (1 - p) * n)\n",
    "    return mu, sigma\n",
    "\n",
    "# 正規分布の累積分布関数\n",
    "def normal_cdf(x, mu=0, sugma=1):\n",
    "    return (1 + math.erf((x -mu) / math.sqrt(2) / sigma)) / 2\n",
    "\n",
    "\n",
    "# 特定の確率となる値を見つけるために、nourmal_cdfの逆関数必要\n",
    "def inverse_nomal_cdf(p, mu=0, sigma=1, tolerance=0.00001):\n",
    "    \"\"\"二分探索を用いて、逆関数の近似値を計算\"\"\"\n",
    "    if mu != 0 or sigma != 1:\n",
    "        return mu + sigma * inverse_nomal_cdf(p, tolerance=tolerance)\n",
    "    \n",
    "    low_z, low_p = -10.0, 0\n",
    "    hi_z, hi_p = 10.0, 1\n",
    "    while hi_z - low_z > tolerance:\n",
    "        mid_z = (low_z + hi_z) / 2\n",
    "        mid_p = normal_cdf(mid_z)\n",
    "        if mid < p:\n",
    "            low_z, low_p = mid_z, mid_p\n",
    "        elif mid_p > p:\n",
    "            hi_z, hi_p = mid_z, mid_p\n",
    "        else:\n",
    "            break\n",
    "            \n",
    "    return mid_z\n",
    "    "
   ]
  },
  {
   "cell_type": "markdown",
   "metadata": {},
   "source": [
    "コイン投げの回数をn=1000とします。\n",
    "コインの歪みがないという仮説が真であるなら、Xは平均500で分散15.8で近似できます"
   ]
  },
  {
   "cell_type": "code",
   "execution_count": 7,
   "metadata": {
    "collapsed": false
   },
   "outputs": [
    {
     "name": "stdout",
     "output_type": "stream",
     "text": [
      "500.0 15.811388300841896\n"
     ]
    }
   ],
   "source": [
    "mu_0, sigma_0 = normal_approximation(1000,0.5)\n",
    "print(mu_0, sigma_0)"
   ]
  },
  {
   "cell_type": "markdown",
   "metadata": {},
   "source": [
    "## ベイズの推定\n",
    "\n",
    "検定を用いて、2郡の差をみた場合「帰無仮説が正しいときには、極端に違いが出る確認がXX％しかない」という結論が出ます。\n",
    "これとは、別に、未知のパラメーターを確率変数として扱う推定の手法があります。\n",
    "パラメーターの事前分布に対して、観測データとべーずの定理を用いて、パラメーターの事後分布を求めます。\n",
    "検定結果の確率を使う代わりにパラメーター自身を用いて、確率的な判断を行う方法がベイズ推定です。\n"
   ]
  },
  {
   "cell_type": "markdown",
   "metadata": {},
   "source": [
    "β分布は、0から1の間の様々な値を取りうる分布です。ベイズでは都合が良いために、頻繁に利用します"
   ]
  },
  {
   "cell_type": "code",
   "execution_count": 18,
   "metadata": {
    "collapsed": false
   },
   "outputs": [],
   "source": [
    "import math\n",
    "def B(alpha, beta):\n",
    "    return math.gamma(alpha) * math.gamma(beta) / math.gamma(alpha + beta)\n",
    "\n",
    "def beta_pdf(x, alpha, beta):\n",
    "    if x < 0 or x > 1:\n",
    "        return 0\n",
    "    return x ** (alpha -1) * (1 - x) ** (beta -1) / B(alpha, beta)"
   ]
  },
  {
   "cell_type": "markdown",
   "metadata": {},
   "source": [
    "一般的にこのβ分布は、以下の重みを中心にします。\n",
    "$${\\frac{alpha}{(alpha + beta)}}$$\n",
    "\n",
    "alphaとbetaが大きい場合、分散は狭くなります。\n",
    "\n",
    "### β分布における、aplphaとbetaの関係\n",
    "alphaとbetaが共に1である場合、一様分布になります。\n",
    "alphaがbetaより大きい場合、1の付近に重みが偏ります。\n",
    "betaがalphaより大きい場合、0の付近に重みが偏ります。\n",
    "alphaとbetaが1以外の同一の値を持つ場合、0.5付近に重みが偏ります。\n"
   ]
  },
  {
   "cell_type": "markdown",
   "metadata": {},
   "source": [
    "### ベイズ推定のモチベーション\n",
    "コイン投げを何度も行い、表が出た回数hと裏がでた回数tを観察します。\n",
    "ベイズ推定では、事前分布を仮定する必要があります。\n",
    "\n",
    "#### 事前分布の決め方の例として\n",
    "* コインに偏りがない：alphaとbetaは、1として一様分布。\n",
    "* 偏りがあり55％で表が出る：alpha=55, beta=45としても良いです。\n",
    "\n",
    "#### 事後分布はどうなるか？\n",
    "事前分布を決めたうえで、コイン投げを実施し、表がでた回数をh、裏が出た回数をtとして観察します。\n",
    "観察結果を事後分布に当てはめ、事後分布を作成します。\n",
    "事後分布も事前分布と同じく、β分布になります。事後分布は、観察結果が反映され以下のようになります。\n",
    "\n",
    "alpha + h, alpha + t"
   ]
  },
  {
   "cell_type": "markdown",
   "metadata": {},
   "source": [
    "これらを繰り返すことで真の確率分布が見えてきます。\n",
    "事前分布を適当に設定しても、事後の観察結果により、正しい分布に近寄って来ます。"
   ]
  }
 ],
 "metadata": {
  "kernelspec": {
   "display_name": "Python 3",
   "language": "python",
   "name": "python3"
  },
  "language_info": {
   "codemirror_mode": {
    "name": "ipython",
    "version": 3
   },
   "file_extension": ".py",
   "mimetype": "text/x-python",
   "name": "python",
   "nbconvert_exporter": "python",
   "pygments_lexer": "ipython3",
   "version": "3.6.0"
  }
 },
 "nbformat": 4,
 "nbformat_minor": 2
}
