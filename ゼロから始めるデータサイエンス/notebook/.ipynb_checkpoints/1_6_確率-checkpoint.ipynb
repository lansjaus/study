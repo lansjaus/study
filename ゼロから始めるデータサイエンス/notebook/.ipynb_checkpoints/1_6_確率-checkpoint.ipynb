{
 "cells": [
  {
   "cell_type": "markdown",
   "metadata": {},
   "source": [
    "# 確率\n",
    "確率と数学的基礎に対する理解を欠いたままで、データサイエンスを行うのは困難です。\n",
    "我々の木庭は、現実世界の事象の不確実さを定量化する方法の一つとして確立を用います。\n",
    "そのため、確率論を使ってモデルをつくり、確率論を使ってモデルを評価します。"
   ]
  },
  {
   "cell_type": "markdown",
   "metadata": {},
   "source": [
    "## 従属と独立\n",
    "大まかなに言うと、Eの発生に関する何らかの情報がFの発生についての情報を与える場合、２つの事象は、EとFの従属関係にあるといいます。\n",
    "歪みのないコインを２回投げた場合、１回目の結果が２回目の結果に影響を与えることはありません。この事象は独立です。\n",
    "一方。１回目が表であったことは、２回とも表がでる事象について明らかな情報を与えます。たとえば、１回目が表であるため、１回目が裏になることはないといったことです。\n",
    "この事象は、従属です。\n",
    "\n",
    "数学的に、事象EとFが独立である場合、その両方が発生する確率は、それぞれの事象が発生する確率の積になります。\n",
    "\n",
    "$${P(E,F) = P(E)P(F)} $$"
   ]
  },
  {
   "cell_type": "markdown",
   "metadata": {},
   "source": [
    "## 条件付き確率\n",
    "事象Eと事象Fが独立であるなら、以下の式で定義されます\n",
    "$${P(E,F) = P(E)P(F)} $$\n",
    "\n",
    "両者が独立である必要がないとき、FにおけるEの条件付き確率は、以下の式で定義されます。\n",
    "言い換えると、事象Fが発生したとき、事象Eが起こる確率です\n",
    "$${P(E | F) = P(E,F) / P(F)} $$"
   ]
  },
  {
   "cell_type": "markdown",
   "metadata": {},
   "source": [
    "書き換えると\n",
    "$${P(E,F) = P(E|F})P(F)$$"
   ]
  },
  {
   "cell_type": "markdown",
   "metadata": {},
   "source": [
    "EとFが独立であるなら。以下の式が成り立ちます\n",
    "$${P(E|F) = P(E)}$$\n",
    "\n",
    "上記は、事象Fが発生しても、事象Eの発生確率には、何ら影響を与えないことを数式として表現したものです。"
   ]
  },
  {
   "cell_type": "markdown",
   "metadata": {},
   "source": [
    "## 家族の例\n",
    "二人の子供がいる家族を考えます。次のことを仮定して考えます。\n",
    "\n",
    "* 子供がそれぞれ男か女である可能性は等しい\n",
    "* 二人目の子供の性別は、一人目の子供の性別と独立している。\n",
    "\n",
    "### 子供が生まれる各確率\n",
    "* 女の子がいない確率は、1/4\n",
    "* 各１名ずつの確率は、2/4\n",
    "* 男の子がいない確率は、1/4\n",
    "\n",
    "では、一人目が女の子であった場合（事象G）に、二人とも女の子になる確率（事象B）はどうなるか？\n",
    "条件付き確率のため、以下のように示せます。直観とあっていると思います\n",
    "\n",
    "$${P(B|G) = P(B,G)/P(G) = P(B)/P(G) = 1/2} $$"
   ]
  },
  {
   "cell_type": "code",
   "execution_count": 5,
   "metadata": {
    "collapsed": false
   },
   "outputs": [
    {
     "data": {
      "text/plain": [
       "0.5"
      ]
     },
     "execution_count": 5,
     "metadata": {},
     "output_type": "execute_result"
    }
   ],
   "source": [
    "G = 1/2\n",
    "B = 1/4\n",
    "B / G "
   ]
  },
  {
   "cell_type": "markdown",
   "metadata": {},
   "source": [
    "少なくとも一人が女の子である場合（事象L）、二人とも女の子である確率(事象B)も求められます。\n",
    "\n",
    "上記と同様に、事象Bかつ事象L（二人とも女の子かつ、少なくとも一人が女の子）は、事象Bと等しいので以下の式が成り立ちます\n",
    "でも直感とはあいません。なぜ、このようになるのか考えてみましょう。以下は独立を仮定しているため、そのまま当てはめようとすると誤ります。\n",
    "\n",
    "$${P(B|L) = P(B,L)/P(L) =P(B)/P(L) = 1/3 }$$"
   ]
  },
  {
   "cell_type": "code",
   "execution_count": 52,
   "metadata": {
    "collapsed": false
   },
   "outputs": [
    {
     "name": "stdout",
     "output_type": "stream",
     "text": [
      "-----事象L-------\n",
      "事象Lを求めるには、３つの確率を求める必要がある\n",
      "P(男子|女子) = P(男子,女子) / P(女子) = 0.25\n",
      "P(女子|男子) = P(女子,男子) / P(女子) = 0.25\n",
      "P(女子|女子) = P(女子,女子) / P(女子) = 0.25\n",
      "P(片方が女子) = 上記事象の総和 =  0.75\n",
      "-----事象B-------\n",
      "P(女子|女子) = P(女子,女子) / P(女子) = 0.25\n",
      "-----P(B|L)-------\n"
     ]
    },
    {
     "data": {
      "text/plain": [
       "0.3333333333333333"
      ]
     },
     "execution_count": 52,
     "metadata": {},
     "output_type": "execute_result"
    }
   ],
   "source": [
    "# 事象L:少なくとも女の子が一人\n",
    "print(\"-----事象L-------\")\n",
    "print(\"事象Lを求めるには、３つの確率を求める必要がある\")\n",
    "print(\"P(男子|女子) = P(男子,女子) / P(女子) =\", 1/2 / 1/2); p1 = 1/2 / 1/2\n",
    "print(\"P(女子|男子) = P(女子,男子) / P(女子) =\", 1/2 / 1/2); p2 = 1/2 / 1/2\n",
    "print(\"P(女子|女子) = P(女子,女子) / P(女子) =\", 1/2 / 1/2); p3 = 1/2 / 1/2\n",
    "print(\"P(片方が女子) = 上記事象の総和 = \", p1 + p2 + p3);P_L = p1 + p2 + p3\n",
    "\n",
    "# 事象B：二人とも女子\n",
    "print(\"-----事象B-------\")\n",
    "print(\"P(女子|女子) = P(女子,女子) / P(女子) =\", 1/2 / 1/2); P_B = 1/2 / 1/2\n",
    "\n",
    "#P(B|L)を求めると\n",
    "print(\"-----P(B|L)-------\")\n",
    "P_B / P_L\n",
    "\n"
   ]
  },
  {
   "cell_type": "markdown",
   "metadata": {},
   "source": [
    "### これをシミュレーションしてみると"
   ]
  },
  {
   "cell_type": "code",
   "execution_count": 50,
   "metadata": {
    "collapsed": false
   },
   "outputs": [
    {
     "name": "stdout",
     "output_type": "stream",
     "text": [
      "P(一人目が女子) 0.4937\n",
      "P(一方が女子) 0.7464\n",
      "P(両方とも女子) 0.2472\n",
      "P(二人とも女子|一人目が女子) 0.5007089325501316\n",
      "P(二人とも女子|どちらかが女子) 0.3311897106109325\n"
     ]
    }
   ],
   "source": [
    "import random\n",
    "\n",
    "def random_kid():\n",
    "    return random.choice([\"boy\",\"girl\"])\n",
    "\n",
    "both_girls=0\n",
    "older_girl=0\n",
    "either_girl=0\n",
    "\n",
    "random.seed(0)\n",
    "for _ in range(10000):\n",
    "    younger = random_kid()\n",
    "    older = random_kid()\n",
    "    if older == \"girl\":\n",
    "        older_girl += 1\n",
    "    if older == \"girl\" and younger == \"girl\":\n",
    "        both_girls += 1\n",
    "    if older == \"girl\" or younger == \"girl\":\n",
    "        either_girl += 1\n",
    "\n",
    "P_first = older_girl / 10000\n",
    "P_either = either_girl / 10000\n",
    "P_both = both_girls / 10000\n",
    "\n",
    "\n",
    "print(\"P(一人目が女子)\",   P_first)\n",
    "print(\"P(一方が女子)\",     P_either)\n",
    "print(\"P(両方とも女子)\",   P_both)\n",
    "        \n",
    "print(\"P(二人とも女子|一人目が女子)\",   P_both / P_first)\n",
    "print(\"P(二人とも女子|どちらかが女子)\", P_both / P_either)"
   ]
  },
  {
   "cell_type": "markdown",
   "metadata": {},
   "source": [
    "## ベイズの定理\n",
    "ベイズの定理は条件付き確率を裏返しにする手法。\n",
    "事象Fが発生した状況で、それとは独立した事象Eが起きる確率を求めるします。\n",
    "しかしわかっていることは、事象Eが発生した状況で事象Fが発生する確率だけです。\n",
    "条件付き確率の定義を使い、式展開を行います"
   ]
  },
  {
   "cell_type": "markdown",
   "metadata": {},
   "source": [
    "### 条件付き確率\n",
    "$${P(B_i|A) = \\frac{P(A,B_i)}{P(A)}}$$\n",
    "\n",
    "\n",
    "\n",
    "### 乗法定理\n",
    "$${P(A,B_i) = P(B_i)P(A|B_i)}$$\n",
    "これを代入する。\n",
    "\n",
    "$${P(B_i|A) = \\frac{P(A,B_i)}{P(A)} = \\frac{P(B_i)P(A|B_i)}{P(A)}}$$\n",
    "\n",
    "さらに、分母側もすべての同時確率の総和に書き換える、乗法定理でまとめると\n",
    "\n",
    "$${P(B_i|A) = \\frac{P(A,B_i)}{P(A)} = \\frac{P(B_i)P(A|B_i)}{P(A,B_1) + P(A,B_2) + … + P(A,B_k)} = \\frac{P(B_i)P(A|B_i)}{\\sum^k_{j=-1}P(B_j)P(A|B_j)}}$$ \n"
   ]
  },
  {
   "cell_type": "markdown",
   "metadata": {},
   "source": [
    "### ベイズの定理の例\n",
    "疾病の発見率が99%の検査があったとします。\n",
    "この疾病は、1/10000で発症します。\n",
    "\n",
    "* 検査結果が陽性である事象をT\n",
    "* 疾患の事象をDとします。\n",
    "\n",
    "ベイズの定理では検査が陽性であった場合に、疾患を持っている確率は以下の式になります。\n",
    "\n",
    "$${P(D|T) = \\frac{P(T,D)}{P(T)} = \\frac{P(D)P(D|T)}{P(T)}}$$\n",
    "\n",
    "さらに、分母のP(T)を乗法定理で展開すると\n",
    "$${P(D|T) = \\frac{P(D)P(T|D)}{P(D)P(T|D) + P(-D)P(T|-D)}}$$"
   ]
  },
  {
   "cell_type": "markdown",
   "metadata": {},
   "source": [
    "#### 疾患を持つ人が陽性となる確率\n",
    "これは、疾病の発見率が99%であるため、疾病患者が検査の結果で陽性になる確率を以下のような定義で書けます。\n",
    "\n",
    "$${P(検査陽性|疾患患者) = P(T|D) = 0.99}$$\n",
    "\n",
    "疾病にかかる確率は、\n",
    "$${P(D) = 1 / 10000 = 0.0001}$$\n",
    "\n",
    "疾病ではないが、検査結果陽性となる確率は、\n",
    "$${P(T|-D)} = 0.01$$\n",
    "\n",
    "疾病ではない確率は、\n",
    "$${P(-D) = 0.9999}$$\n",
    "\n",
    "検査の結果、要請である確率を示すと\n",
    "$${\\frac{0.0001 * 0.99}{(0.0001 * 0.99) + (0.9999 * 0.01)} = 0.0098}$$\n",
    "\n",
    "よって、1%以下というのがわかります。\n",
    "間違って陽性とする確率が1%あるため、検出力99%より低くなるのは直感的にわかるかと思います"
   ]
  },
  {
   "cell_type": "code",
   "execution_count": 53,
   "metadata": {
    "collapsed": false
   },
   "outputs": [
    {
     "data": {
      "text/plain": [
       "0.00980392156862745"
      ]
     },
     "execution_count": 53,
     "metadata": {},
     "output_type": "execute_result"
    }
   ],
   "source": [
    "(0.0001 * 0.99) / ((0.0001 * 0.99) + (0.9999 * 0.01))"
   ]
  },
  {
   "cell_type": "markdown",
   "metadata": {},
   "source": [
    "## 確率変数\n",
    "確率変数とは、確率分布に関連づいた値を持つ変数。\n",
    "関連する分布は、確率変数がとりうる値それぞれの起こりやすさを与えます。\n",
    "コイン投げでは、値が0になる確率が0.5, 値が1となる確率が0.5です。\n"
   ]
  }
 ],
 "metadata": {
  "kernelspec": {
   "display_name": "Python 3",
   "language": "python",
   "name": "python3"
  },
  "language_info": {
   "codemirror_mode": {
    "name": "ipython",
    "version": 3
   },
   "file_extension": ".py",
   "mimetype": "text/x-python",
   "name": "python",
   "nbconvert_exporter": "python",
   "pygments_lexer": "ipython3",
   "version": "3.6.0"
  }
 },
 "nbformat": 4,
 "nbformat_minor": 2
}
